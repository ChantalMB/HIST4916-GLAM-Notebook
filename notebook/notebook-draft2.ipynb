{
 "cells": [
  {
   "cell_type": "markdown",
   "metadata": {
    "cell_id": "00000-1d0acf10-26b5-4284-a59f-b1c8855ea1e9",
    "deepnote_cell_type": "markdown",
    "tags": []
   },
   "source": []
  },
  {
   "cell_type": "markdown",
   "metadata": {
    "cell_id": "00001-d0620644-a477-4206-a3cd-e14c0c30ded3",
    "deepnote_cell_type": "markdown",
    "tags": []
   },
   "source": [
    "# [Actual title]\n",
    "## Introduction\n",
    "purpose of notebook\n",
    "relevance and predictions about work \n",
    "## Data\n",
    "sources of data and strengths/weaknesses\n"
   ]
  },
  {
   "cell_type": "markdown",
   "metadata": {
    "cell_id": "00002-0014b7bf-ec60-4348-8663-3ff60cc88ef6",
    "deepnote_cell_type": "markdown",
    "tags": []
   },
   "source": [
    "### Installing the Stuff & Imports\n",
    "This is where we install all the packages we will use in this notebook.  `pandas` is for manipulating data, `plotly` and `numpy` for visualizing.  We then import everything we need and set display settings for Jupyter Notebook.  "
   ]
  },
  {
   "cell_type": "code",
   "execution_count": 1,
   "metadata": {
    "cell_id": "00000-0a14dec8-d7c3-45f9-b00c-97b28860b825",
    "deepnote_cell_type": "code"
   },
   "outputs": [
    {
     "name": "stdout",
     "output_type": "stream",
     "text": [
      "Requirement already satisfied: ipywidgets in /usr/local/Caskroom/miniconda/base/lib/python3.8/site-packages (7.6.3)\n",
      "Requirement already satisfied: ipykernel>=4.5.1 in /usr/local/Caskroom/miniconda/base/lib/python3.8/site-packages (from ipywidgets) (5.3.4)\n",
      "Requirement already satisfied: traitlets>=4.3.1 in /usr/local/Caskroom/miniconda/base/lib/python3.8/site-packages (from ipywidgets) (5.0.5)\n",
      "Requirement already satisfied: nbformat>=4.2.0 in /usr/local/Caskroom/miniconda/base/lib/python3.8/site-packages (from ipywidgets) (5.1.3)\n",
      "Requirement already satisfied: jupyterlab-widgets>=1.0.0; python_version >= \"3.6\" in /usr/local/Caskroom/miniconda/base/lib/python3.8/site-packages (from ipywidgets) (1.0.0)\n",
      "Requirement already satisfied: ipython>=4.0.0; python_version >= \"3.3\" in /usr/local/Caskroom/miniconda/base/lib/python3.8/site-packages (from ipywidgets) (7.22.0)\n",
      "Requirement already satisfied: widgetsnbextension~=3.5.0 in /usr/local/Caskroom/miniconda/base/lib/python3.8/site-packages (from ipywidgets) (3.5.1)\n",
      "Requirement already satisfied: jupyter-client in /usr/local/Caskroom/miniconda/base/lib/python3.8/site-packages (from ipykernel>=4.5.1->ipywidgets) (6.1.12)\n",
      "Requirement already satisfied: appnope; platform_system == \"Darwin\" in /usr/local/Caskroom/miniconda/base/lib/python3.8/site-packages (from ipykernel>=4.5.1->ipywidgets) (0.1.2)\n",
      "Requirement already satisfied: tornado>=4.2 in /usr/local/Caskroom/miniconda/base/lib/python3.8/site-packages (from ipykernel>=4.5.1->ipywidgets) (6.1)\n",
      "Requirement already satisfied: ipython-genutils in /usr/local/Caskroom/miniconda/base/lib/python3.8/site-packages (from traitlets>=4.3.1->ipywidgets) (0.2.0)\n",
      "Requirement already satisfied: jsonschema!=2.5.0,>=2.4 in /usr/local/Caskroom/miniconda/base/lib/python3.8/site-packages (from nbformat>=4.2.0->ipywidgets) (3.2.0)\n",
      "Requirement already satisfied: jupyter-core in /usr/local/Caskroom/miniconda/base/lib/python3.8/site-packages (from nbformat>=4.2.0->ipywidgets) (4.7.1)\n",
      "Requirement already satisfied: pickleshare in /usr/local/Caskroom/miniconda/base/lib/python3.8/site-packages (from ipython>=4.0.0; python_version >= \"3.3\"->ipywidgets) (0.7.5)\n",
      "Requirement already satisfied: jedi>=0.16 in /usr/local/Caskroom/miniconda/base/lib/python3.8/site-packages (from ipython>=4.0.0; python_version >= \"3.3\"->ipywidgets) (0.17.0)\n",
      "Requirement already satisfied: setuptools>=18.5 in /usr/local/Caskroom/miniconda/base/lib/python3.8/site-packages (from ipython>=4.0.0; python_version >= \"3.3\"->ipywidgets) (50.3.1.post20201107)\n",
      "Requirement already satisfied: decorator in /usr/local/Caskroom/miniconda/base/lib/python3.8/site-packages (from ipython>=4.0.0; python_version >= \"3.3\"->ipywidgets) (5.0.5)\n",
      "Requirement already satisfied: pygments in /usr/local/Caskroom/miniconda/base/lib/python3.8/site-packages (from ipython>=4.0.0; python_version >= \"3.3\"->ipywidgets) (2.8.1)\n",
      "Requirement already satisfied: pexpect>4.3; sys_platform != \"win32\" in /usr/local/Caskroom/miniconda/base/lib/python3.8/site-packages (from ipython>=4.0.0; python_version >= \"3.3\"->ipywidgets) (4.8.0)\n",
      "Requirement already satisfied: backcall in /usr/local/Caskroom/miniconda/base/lib/python3.8/site-packages (from ipython>=4.0.0; python_version >= \"3.3\"->ipywidgets) (0.2.0)\n",
      "Requirement already satisfied: prompt-toolkit!=3.0.0,!=3.0.1,<3.1.0,>=2.0.0 in /usr/local/Caskroom/miniconda/base/lib/python3.8/site-packages (from ipython>=4.0.0; python_version >= \"3.3\"->ipywidgets) (3.0.17)\n",
      "Requirement already satisfied: notebook>=4.4.1 in /usr/local/Caskroom/miniconda/base/lib/python3.8/site-packages (from widgetsnbextension~=3.5.0->ipywidgets) (6.3.0)\n",
      "Requirement already satisfied: pyzmq>=13 in /usr/local/Caskroom/miniconda/base/lib/python3.8/site-packages (from jupyter-client->ipykernel>=4.5.1->ipywidgets) (20.0.0)\n",
      "Requirement already satisfied: python-dateutil>=2.1 in /usr/local/Caskroom/miniconda/base/lib/python3.8/site-packages (from jupyter-client->ipykernel>=4.5.1->ipywidgets) (2.8.1)\n",
      "Requirement already satisfied: six>=1.11.0 in /usr/local/Caskroom/miniconda/base/lib/python3.8/site-packages (from jsonschema!=2.5.0,>=2.4->nbformat>=4.2.0->ipywidgets) (1.15.0)\n",
      "Requirement already satisfied: pyrsistent>=0.14.0 in /usr/local/Caskroom/miniconda/base/lib/python3.8/site-packages (from jsonschema!=2.5.0,>=2.4->nbformat>=4.2.0->ipywidgets) (0.17.3)\n",
      "Requirement already satisfied: attrs>=17.4.0 in /usr/local/Caskroom/miniconda/base/lib/python3.8/site-packages (from jsonschema!=2.5.0,>=2.4->nbformat>=4.2.0->ipywidgets) (20.3.0)\n",
      "Requirement already satisfied: parso>=0.7.0 in /usr/local/Caskroom/miniconda/base/lib/python3.8/site-packages (from jedi>=0.16->ipython>=4.0.0; python_version >= \"3.3\"->ipywidgets) (0.8.2)\n",
      "Requirement already satisfied: ptyprocess>=0.5 in /usr/local/Caskroom/miniconda/base/lib/python3.8/site-packages (from pexpect>4.3; sys_platform != \"win32\"->ipython>=4.0.0; python_version >= \"3.3\"->ipywidgets) (0.7.0)\n",
      "Requirement already satisfied: wcwidth in /usr/local/Caskroom/miniconda/base/lib/python3.8/site-packages (from prompt-toolkit!=3.0.0,!=3.0.1,<3.1.0,>=2.0.0->ipython>=4.0.0; python_version >= \"3.3\"->ipywidgets) (0.2.5)\n",
      "Requirement already satisfied: Send2Trash>=1.5.0 in /usr/local/Caskroom/miniconda/base/lib/python3.8/site-packages (from notebook>=4.4.1->widgetsnbextension~=3.5.0->ipywidgets) (1.5.0)\n",
      "Requirement already satisfied: prometheus-client in /usr/local/Caskroom/miniconda/base/lib/python3.8/site-packages (from notebook>=4.4.1->widgetsnbextension~=3.5.0->ipywidgets) (0.10.0)\n",
      "Requirement already satisfied: nbconvert in /usr/local/Caskroom/miniconda/base/lib/python3.8/site-packages (from notebook>=4.4.1->widgetsnbextension~=3.5.0->ipywidgets) (6.0.7)\n",
      "Requirement already satisfied: terminado>=0.8.3 in /usr/local/Caskroom/miniconda/base/lib/python3.8/site-packages (from notebook>=4.4.1->widgetsnbextension~=3.5.0->ipywidgets) (0.9.4)\n",
      "Requirement already satisfied: argon2-cffi in /usr/local/Caskroom/miniconda/base/lib/python3.8/site-packages (from notebook>=4.4.1->widgetsnbextension~=3.5.0->ipywidgets) (20.1.0)\n",
      "Requirement already satisfied: jinja2 in /usr/local/Caskroom/miniconda/base/lib/python3.8/site-packages (from notebook>=4.4.1->widgetsnbextension~=3.5.0->ipywidgets) (2.11.3)\n",
      "Requirement already satisfied: bleach in /usr/local/Caskroom/miniconda/base/lib/python3.8/site-packages (from nbconvert->notebook>=4.4.1->widgetsnbextension~=3.5.0->ipywidgets) (3.3.0)\n",
      "Requirement already satisfied: mistune<2,>=0.8.1 in /usr/local/Caskroom/miniconda/base/lib/python3.8/site-packages (from nbconvert->notebook>=4.4.1->widgetsnbextension~=3.5.0->ipywidgets) (0.8.4)\n",
      "Requirement already satisfied: testpath in /usr/local/Caskroom/miniconda/base/lib/python3.8/site-packages (from nbconvert->notebook>=4.4.1->widgetsnbextension~=3.5.0->ipywidgets) (0.4.4)\n",
      "Requirement already satisfied: entrypoints>=0.2.2 in /usr/local/Caskroom/miniconda/base/lib/python3.8/site-packages (from nbconvert->notebook>=4.4.1->widgetsnbextension~=3.5.0->ipywidgets) (0.3)\n",
      "Requirement already satisfied: nbclient<0.6.0,>=0.5.0 in /usr/local/Caskroom/miniconda/base/lib/python3.8/site-packages (from nbconvert->notebook>=4.4.1->widgetsnbextension~=3.5.0->ipywidgets) (0.5.3)\n",
      "Requirement already satisfied: defusedxml in /usr/local/Caskroom/miniconda/base/lib/python3.8/site-packages (from nbconvert->notebook>=4.4.1->widgetsnbextension~=3.5.0->ipywidgets) (0.7.1)\n",
      "Requirement already satisfied: jupyterlab-pygments in /usr/local/Caskroom/miniconda/base/lib/python3.8/site-packages (from nbconvert->notebook>=4.4.1->widgetsnbextension~=3.5.0->ipywidgets) (0.1.2)\n",
      "Requirement already satisfied: pandocfilters>=1.4.1 in /usr/local/Caskroom/miniconda/base/lib/python3.8/site-packages (from nbconvert->notebook>=4.4.1->widgetsnbextension~=3.5.0->ipywidgets) (1.4.3)\n",
      "Requirement already satisfied: cffi>=1.0.0 in /usr/local/Caskroom/miniconda/base/lib/python3.8/site-packages (from argon2-cffi->notebook>=4.4.1->widgetsnbextension~=3.5.0->ipywidgets) (1.14.3)\n",
      "Requirement already satisfied: MarkupSafe>=0.23 in /usr/local/Caskroom/miniconda/base/lib/python3.8/site-packages (from jinja2->notebook>=4.4.1->widgetsnbextension~=3.5.0->ipywidgets) (1.1.1)\n",
      "Requirement already satisfied: webencodings in /usr/local/Caskroom/miniconda/base/lib/python3.8/site-packages (from bleach->nbconvert->notebook>=4.4.1->widgetsnbextension~=3.5.0->ipywidgets) (0.5.1)\n",
      "Requirement already satisfied: packaging in /usr/local/Caskroom/miniconda/base/lib/python3.8/site-packages (from bleach->nbconvert->notebook>=4.4.1->widgetsnbextension~=3.5.0->ipywidgets) (20.9)\n",
      "Requirement already satisfied: async-generator in /usr/local/Caskroom/miniconda/base/lib/python3.8/site-packages (from nbclient<0.6.0,>=0.5.0->nbconvert->notebook>=4.4.1->widgetsnbextension~=3.5.0->ipywidgets) (1.10)\n",
      "Requirement already satisfied: nest-asyncio in /usr/local/Caskroom/miniconda/base/lib/python3.8/site-packages (from nbclient<0.6.0,>=0.5.0->nbconvert->notebook>=4.4.1->widgetsnbextension~=3.5.0->ipywidgets) (1.5.1)\n",
      "Requirement already satisfied: pycparser in /usr/local/Caskroom/miniconda/base/lib/python3.8/site-packages (from cffi>=1.0.0->argon2-cffi->notebook>=4.4.1->widgetsnbextension~=3.5.0->ipywidgets) (2.20)\n",
      "Requirement already satisfied: pyparsing>=2.0.2 in /usr/local/Caskroom/miniconda/base/lib/python3.8/site-packages (from packaging->bleach->nbconvert->notebook>=4.4.1->widgetsnbextension~=3.5.0->ipywidgets) (2.4.7)\n"
     ]
    },
    {
     "name": "stdout",
     "output_type": "stream",
     "text": [
      "Requirement already satisfied: pandas in /usr/local/Caskroom/miniconda/base/lib/python3.8/site-packages (1.2.3)\n",
      "Requirement already satisfied: python-dateutil>=2.7.3 in /usr/local/Caskroom/miniconda/base/lib/python3.8/site-packages (from pandas) (2.8.1)\n",
      "Requirement already satisfied: pytz>=2017.3 in /usr/local/Caskroom/miniconda/base/lib/python3.8/site-packages (from pandas) (2021.1)\n",
      "Requirement already satisfied: numpy>=1.16.5 in /usr/local/Caskroom/miniconda/base/lib/python3.8/site-packages (from pandas) (1.19.2)\n",
      "Requirement already satisfied: six>=1.5 in /usr/local/Caskroom/miniconda/base/lib/python3.8/site-packages (from python-dateutil>=2.7.3->pandas) (1.15.0)\n",
      "Requirement already satisfied: requests in /usr/local/Caskroom/miniconda/base/lib/python3.8/site-packages (2.24.0)\n",
      "Requirement already satisfied: certifi>=2017.4.17 in /usr/local/Caskroom/miniconda/base/lib/python3.8/site-packages (from requests) (2020.12.5)\n",
      "Requirement already satisfied: urllib3!=1.25.0,!=1.25.1,<1.26,>=1.21.1 in /usr/local/Caskroom/miniconda/base/lib/python3.8/site-packages (from requests) (1.25.11)\n",
      "Requirement already satisfied: chardet<4,>=3.0.2 in /usr/local/Caskroom/miniconda/base/lib/python3.8/site-packages (from requests) (3.0.4)\n",
      "Requirement already satisfied: idna<3,>=2.5 in /usr/local/Caskroom/miniconda/base/lib/python3.8/site-packages (from requests) (2.10)\n",
      "Requirement already satisfied: plotly in /usr/local/Caskroom/miniconda/base/lib/python3.8/site-packages (4.14.3)\n",
      "Requirement already satisfied: retrying>=1.3.3 in /usr/local/Caskroom/miniconda/base/lib/python3.8/site-packages (from plotly) (1.3.3)\n",
      "Requirement already satisfied: six in /usr/local/Caskroom/miniconda/base/lib/python3.8/site-packages (from plotly) (1.15.0)\n",
      "Requirement already satisfied: numpy in /usr/local/Caskroom/miniconda/base/lib/python3.8/site-packages (1.19.2)\n"
     ]
    }
   ],
   "source": [
    "!pip install ipywidgets\n",
    "!pip install pandas\n",
    "!pip3 install requests\n",
    "!pip3 install plotly\n",
    "!pip3 install numpy"
   ]
  },
  {
   "cell_type": "code",
   "execution_count": null,
   "metadata": {
    "cell_id": "00000-9dbdaa20-adda-40fd-a116-d8368829b372",
    "deepnote_cell_type": "code",
    "deepnote_to_be_reexecuted": false,
    "execution_millis": 35,
    "execution_start": 1617764464585,
    "source_hash": "4fca0ebe",
    "tags": []
   },
   "outputs": [],
   "source": [
    "# for randomiser\n",
    "import requests\n",
    "import random\n",
    "import pandas as pd\n",
    "from IPython.display import Image, display, HTML\n",
    "import ipywidgets as widgets\n",
    "\n",
    "# for visualizations\n",
    "import plotly.graph_objects as go\n",
    "import plotly.express as px\n",
    "import numpy as np\n",
    "\n",
    "pd.set_option('display.max_colwidth', None)\n",
    "pd.options.display.max_columns = None"
   ]
  },
  {
   "cell_type": "markdown",
   "metadata": {
    "cell_id": "00005-10144aee-4698-45f0-b047-f2398eb5afaf",
    "deepnote_cell_type": "markdown",
    "tags": []
   },
   "source": [
    "### Reading and Manipulating our Data\n",
    "We are importing our data into a data frame to use in our notebook.   "
   ]
  },
  {
   "cell_type": "code",
   "execution_count": null,
   "metadata": {
    "cell_id": "00001-14bd49df-d902-4a33-8721-e71f0257955d",
    "deepnote_cell_type": "code",
    "deepnote_to_be_reexecuted": false,
    "execution_millis": 39193,
    "execution_start": 1617764464625,
    "source_hash": "93dc8f1b",
    "tags": []
   },
   "outputs": [],
   "source": [
    "df = pd.read_csv(\"https://dhmuse.netlify.app/data/cstmc-CSV-en.csv\")\n",
    "df"
   ]
  },
  {
   "cell_type": "markdown",
   "metadata": {
    "cell_id": "00007-8cda1ff5-d33a-4031-94c9-ce929b688f5f",
    "deepnote_cell_type": "markdown",
    "tags": []
   },
   "source": [
    "Then we took out all the artifacts that did not have an image becasue we need an image for the generator to bring up.  We also wanted to explore what artifacts are deemed worth digitizing through photography and/or prioritized in the process of digitization."
   ]
  },
  {
   "cell_type": "code",
   "execution_count": null,
   "metadata": {
    "cell_id": "00002-9c10c85b-6032-43ec-8c24-8629f66d3a6b",
    "deepnote_cell_type": "code",
    "deepnote_to_be_reexecuted": false,
    "execution_millis": 271,
    "execution_start": 1617764503759,
    "source_hash": "14b9d707",
    "tags": []
   },
   "outputs": [],
   "source": [
    "# remove any artifacts that do not have images\n",
    "df = df[df['image'].notna()]\n",
    "df"
   ]
  },
  {
   "cell_type": "markdown",
   "metadata": {
    "cell_id": "00008-49327325-fd28-4e14-a3f9-602e6b82c8aa",
    "deepnote_cell_type": "markdown",
    "tags": []
   },
   "source": [
    "### The Randomiser\n",
    "Here we are selecting a random artifact to be displayed.  The artifact is displayed with:\n",
    "\n",
    "- Title\n",
    "- Image\n",
    "- Context\n",
    "- Year\n",
    "- Manufactuering location\n",
    "- Link to archive\n",
    "\n",
    "The randomiser gives the user the opportunity to doscover new things but also consider the artifact out of context.  \n"
   ]
  },
  {
   "cell_type": "code",
   "execution_count": null,
   "metadata": {
    "cell_id": "00003-08266bdc-5e1d-4524-9fc9-9adb3da74c47",
    "deepnote_cell_type": "code",
    "deepnote_to_be_reexecuted": false,
    "execution_millis": 9,
    "execution_start": 1617764503987,
    "scrolled": true,
    "source_hash": "3b150afa",
    "tags": []
   },
   "outputs": [],
   "source": [
    "def display_random(b):\n",
    "    out.clear_output()\n",
    "    # Randomly select a record from the randomly sorted data\n",
    "    randomArtifact = df.sample()\n",
    "    \n",
    "    # Display the record\n",
    "    artiNum = randomArtifact.iloc[0]['artifactNumber']\n",
    "    imgURL = randomArtifact.iloc[0]['image']\n",
    "    with out:\n",
    "        # display(HTML(f'<h3>{record[\"displayTitle\"]}</h3>'))\n",
    "        # display(Image(url=record['media'][0]['small']['uri']))\n",
    "        # display(HTML(f'<a href=\"https://collections.museumsvictoria.com.au/{record[\"id\"]}\">More info...</a>'))\n",
    "        display(HTML(f'<a href=\"https://ingeniumcanada.org/ingenium/collection-research/collection-item.php?id={artiNum}\"> The thing </a>'))\n",
    "        # displays image\n",
    "        display(Image(requests.get(imgURL).content))\n",
    "\n",
    "\n",
    "# Create a button to launch the randomness\n",
    "go = widgets.Button(description='Randomise!')\n",
    "out = widgets.Output()\n",
    "go.on_click(display_random)\n",
    "display(go)\n",
    "display(out)"
   ]
  },
  {
   "cell_type": "markdown",
   "metadata": {
    "cell_id": "00011-95c98373-a9b4-413f-8b9a-024fccbc8b17",
    "deepnote_cell_type": "markdown",
    "tags": []
   },
   "source": [
    "### Visualizing and Putting the Data into Context \n",
    "Here we are counting the values in the column containing the group of the artifacts.  We wanted to see the most common group  of technology that have been thoroughly digitized.  !!!MACROSCOPIC!!!!\n"
   ]
  },
  {
   "cell_type": "code",
   "execution_count": 8,
   "metadata": {
    "cell_id": "00012-04d8ae81-3d4c-4f01-87d3-d24fd6288e76",
    "deepnote_cell_type": "code",
    "tags": []
   },
   "outputs": [
    {
     "ename": "NameError",
     "evalue": "name 'df' is not defined",
     "output_type": "error",
     "traceback": [
      "\u001b[0;31m---------------------------------------------------------------------------\u001b[0m",
      "\u001b[0;31mNameError\u001b[0m                                 Traceback (most recent call last)",
      "\u001b[0;32m<ipython-input-8-b099289204de>\u001b[0m in \u001b[0;36m<module>\u001b[0;34m\u001b[0m\n\u001b[1;32m      1\u001b[0m \u001b[0;31m# grouping group1\u001b[0m\u001b[0;34m\u001b[0m\u001b[0;34m\u001b[0m\u001b[0;34m\u001b[0m\u001b[0m\n\u001b[0;32m----> 2\u001b[0;31m \u001b[0mgroup1\u001b[0m \u001b[0;34m=\u001b[0m \u001b[0mdf\u001b[0m\u001b[0;34m[\u001b[0m\u001b[0;34m'group1'\u001b[0m\u001b[0;34m]\u001b[0m\u001b[0;34m.\u001b[0m\u001b[0mvalue_counts\u001b[0m\u001b[0;34m(\u001b[0m\u001b[0;34m)\u001b[0m\u001b[0;34m\u001b[0m\u001b[0;34m\u001b[0m\u001b[0m\n\u001b[0m\u001b[1;32m      3\u001b[0m \u001b[0;34m\u001b[0m\u001b[0m\n\u001b[1;32m      4\u001b[0m \u001b[0mgroup1df\u001b[0m \u001b[0;34m=\u001b[0m \u001b[0mgroup1\u001b[0m\u001b[0;34m.\u001b[0m\u001b[0mto_frame\u001b[0m\u001b[0;34m(\u001b[0m\u001b[0;34m)\u001b[0m\u001b[0;34m\u001b[0m\u001b[0;34m\u001b[0m\u001b[0m\n\u001b[1;32m      5\u001b[0m \u001b[0;34m\u001b[0m\u001b[0m\n",
      "\u001b[0;31mNameError\u001b[0m: name 'df' is not defined"
     ]
    }
   ],
   "source": [
    "# grouping group1\n",
    "group1 = df['group1'].value_counts()\n",
    "\n",
    "group1df = group1.to_frame()\n",
    "\n",
    "group1df = group1df.reset_index()\n",
    "\n",
    "# calculating percentage of each group\n",
    "group1per = df['group1'].value_counts(normalize=True) * 100\n",
    "\n",
    "group1perdf = group1per.to_frame()\n",
    "\n",
    "group1perdf = group1perdf.reset_index()\n",
    "\n",
    "groupdf = pd.merge(group1df, group1perdf, how='outer', on='index', )\n",
    "\n",
    "groupdf"
   ]
  },
  {
   "cell_type": "markdown",
   "metadata": {
    "cell_id": "00013-879d1489-c71f-4e95-aa22-6ba6ea6648fd",
    "deepnote_cell_type": "markdown",
    "tags": []
   },
   "source": [
    "Looking at this graph we see that aviation is the most common group, followed by SOMETHING.  (can the following be grouped into a general field, and theororize why)"
   ]
  },
  {
   "cell_type": "code",
   "execution_count": null,
   "metadata": {
    "cell_id": "00006-f377fc48-4e2d-4a71-9fa0-b9af6e986a31",
    "deepnote_cell_type": "code"
   },
   "outputs": [],
   "source": [
    "fig = px.bar(groupdf, y='group1_x', x='index', text='group1_y', labels={\n",
    "                     \"group1_x\": \"# of Occurences\",\n",
    "                     \"index\": \"Group\",\n",
    "                     \"group1_y\": \"Percent\"\n",
    "                 }, color='group1_y',\n",
    "                title=\"Artifacts Arranged by Group\")\n",
    "\n",
    "fig.update_traces(texttemplate='%{text:.2s}', textposition='outside')\n",
    "fig.update_layout(uniformtext_minsize=8, uniformtext_mode='hide', xaxis_tickangle=45)\n",
    "\n",
    "fig.update_layout(\n",
    "    autosize=False,\n",
    "    width=950,\n",
    "    height=800,)\n",
    "fig"
   ]
  },
  {
   "cell_type": "markdown",
   "metadata": {
    "cell_id": "00015-04b00e03-743e-4ff8-828e-7b08d628cba3",
    "deepnote_cell_type": "markdown",
    "tags": []
   },
   "source": [
    "### Looking at Smaller Subcategories\n",
    "Here we are grouping by category which is more specific than the broad groups.  We wanted to take a more microscopic look at the division of artifacts in order to ...?"
   ]
  },
  {
   "cell_type": "code",
   "execution_count": null,
   "metadata": {
    "cell_id": "00007-f2d215d3-04fb-41a6-bf7d-fc32596fe10a",
    "deepnote_cell_type": "code"
   },
   "outputs": [],
   "source": [
    "# grouping category1\n",
    "category1 = df['category1'].value_counts()\n",
    "\n",
    "category1df = category1.to_frame()\n",
    "\n",
    "category1df = category1df.reset_index()\n",
    "\n",
    "# calculating percentage of each group\n",
    "category1per = df['category1'].value_counts(normalize=True) * 100\n",
    "\n",
    "category1perdf = category1per.to_frame()\n",
    "\n",
    "category1perdf = category1perdf.reset_index()\n",
    "\n",
    "categorydf = pd.merge(category1df, category1perdf, how='outer', on='index', )\n",
    "\n",
    "categorydf.columns = ['Category', 'Count', 'Percentage']\n",
    "categorydf"
   ]
  },
  {
   "cell_type": "markdown",
   "metadata": {
    "cell_id": "00017-934e2ab1-27cc-4efb-bad1-2fc8b63549f5",
    "deepnote_cell_type": "markdown",
    "tags": []
   },
   "source": [
    "We chose to use a treemap as we wanted to show implied hierarchy amongst the artifacts.  Seeing that commemorative was the highest by quite a bit, we see that it is prioritized.  Why is this?     "
   ]
  },
  {
   "cell_type": "code",
   "execution_count": null,
   "metadata": {
    "cell_id": "00008-b04a88b3-5519-4192-ace0-e972282a69d3",
    "deepnote_cell_type": "code"
   },
   "outputs": [],
   "source": [
    "fig = px.treemap(categorydf, path=['Category'], values='Count',\n",
    "                  color='Percentage', hover_data=['Percentage'],\n",
    "                  color_continuous_scale='RdBu',\n",
    "                  color_continuous_midpoint=np.average(categorydf['Percentage'], weights=categorydf['Percentage']))\n",
    "\n",
    "fig.data[0].hovertemplate = '%{label}<br> Count: %{value}'\n",
    "\n",
    "fig.update_layout(\n",
    "    autosize=False,\n",
    "    width=900,\n",
    "    height=800,)\n",
    "\n",
    "fig"
   ]
  },
  {
   "cell_type": "markdown",
   "metadata": {
    "cell_id": "00011-bf847797-bf5a-408c-b7d8-263e37923239",
    "deepnote_cell_type": "markdown",
    "tags": []
   },
   "source": [
    "## Conclusion \n",
    "\"This section will summarize what the reader/user has just accomplished, pointing out those points/places where they might wish to expand or modify to work with their own data.\"\n",
    "\n",
    "\"ways to extend it, in order to suggest questions a user might want to pose, and why it might matter.\"\n",
    "## References (stuff we drew upon to build the notebook)\n",
    "**CHANTAL TO-DO:** Add things you referenced (ex the Randomise GLAM notebook)\n",
    "## Further Readings (to understand the notebook- concepts)\n",
    "class ones "
   ]
  },
  {
   "cell_type": "markdown",
   "metadata": {
    "created_in_deepnote_cell": true,
    "deepnote_cell_type": "markdown",
    "tags": []
   },
   "source": [
    "<a style='text-decoration:none;line-height:16px;display:flex;color:#5B5B62;padding:10px;justify-content:end;' href='https://deepnote.com?utm_source=created-in-deepnote-cell&projectId=266ed0b1-854b-4e31-a217-0431ebabd4c4' target=\"_blank\">\n",
    "<img alt='Created in deepnote.com' style='display:inline;max-height:16px;margin:0px;margin-right:7.5px;' src='data:image/svg+xml;base64,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' > </img>\n",
    "Created in <span style='font-weight:600;margin-left:4px;'>Deepnote</span></a>"
   ]
  }
 ],
 "metadata": {
  "deepnote": {},
  "deepnote_execution_queue": [],
  "deepnote_notebook_id": "d9041fb8-2bb2-45f2-bcaf-c7195181acb8",
  "kernelspec": {
   "display_name": "Python 3",
   "language": "python",
   "name": "python3"
  },
  "language_info": {
   "codemirror_mode": {
    "name": "ipython",
    "version": 3
   },
   "file_extension": ".py",
   "mimetype": "text/x-python",
   "name": "python",
   "nbconvert_exporter": "python",
   "pygments_lexer": "ipython3",
   "version": "3.8.5"
  }
 },
 "nbformat": 4,
 "nbformat_minor": 2
}
