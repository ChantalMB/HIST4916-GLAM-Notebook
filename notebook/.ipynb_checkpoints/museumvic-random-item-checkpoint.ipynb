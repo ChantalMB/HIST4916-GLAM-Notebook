{
 "cells": [
  {
   "cell_type": "markdown",
   "metadata": {},
   "source": [
    "# A random item from the Museums Victoria's collections!\n",
    "\n",
    "The Museums Victoria collections API includes a couple of very useful parameters:\n",
    "\n",
    "* `sort` – as well as the usual options 'relevance' and 'date', `sort` can be set to 'random'\n",
    "* `hasimages` – set to 'yes' to only get records with images attached\n",
    "\n",
    "Putting these two things together, we can very easily create a random collection image viewer. Just run the cells below, then click on the 'Randomise!' button for serendipitous fun."
   ]
  },
  {
   "cell_type": "code",
   "execution_count": 1,
   "metadata": {},
   "outputs": [],
   "source": [
    "import requests\n",
    "import random\n",
    "from IPython.display import Image, display, HTML\n",
    "import ipywidgets as widgets"
   ]
  },
  {
   "cell_type": "code",
   "execution_count": 2,
   "metadata": {},
   "outputs": [],
   "source": [
    "SEARCH_URL = 'https://collections.museumsvictoria.com.au/api/search'"
   ]
  },
  {
   "cell_type": "code",
   "execution_count": 3,
   "metadata": {},
   "outputs": [
    {
     "data": {
      "application/vnd.jupyter.widget-view+json": {
       "model_id": "ebe356f66d3f4f879329d765a8580b64",
       "version_major": 2,
       "version_minor": 0
      },
      "text/plain": [
       "Button(description='Randomise!', style=ButtonStyle())"
      ]
     },
     "metadata": {},
     "output_type": "display_data"
    },
    {
     "data": {
      "application/vnd.jupyter.widget-view+json": {
       "model_id": "d14bf22c4d4646b1af4151fcf5dbae20",
       "version_major": 2,
       "version_minor": 0
      },
      "text/plain": [
       "Output()"
      ]
     },
     "metadata": {},
     "output_type": "display_data"
    }
   ],
   "source": [
    "def display_random(b):\n",
    "    out.clear_output()\n",
    "    params = {\n",
    "        'sort': 'random',\n",
    "        'hasimages': 'yes'\n",
    "    }\n",
    "    # Get the data\n",
    "    response = requests.get(SEARCH_URL, params=params)\n",
    "    # Randomly select a record from the randomly sorted data\n",
    "    record = random.choice(response.json())\n",
    "    # Display the record\n",
    "    with out:\n",
    "        display(HTML(f'<h3>{record[\"displayTitle\"]}</h3>'))\n",
    "        display(Image(url=record['media'][0]['small']['uri']))\n",
    "        display(HTML(f'<a href=\"https://collections.museumsvictoria.com.au/{record[\"id\"]}\">More info...</a>'))\n",
    "\n",
    "# Create a button to launch the randomness\n",
    "go = widgets.Button(description='Randomise!')\n",
    "out = widgets.Output()\n",
    "go.on_click(display_random)\n",
    "display(go)\n",
    "display(out)"
   ]
  },
  {
   "cell_type": "markdown",
   "metadata": {},
   "source": [
    "----\n",
    "\n",
    "Created by [Tim Sherratt](https://timsherratt.org/) for the [GLAM Workbench](https://glam-workbench.github.io/)."
   ]
  }
 ],
 "metadata": {
  "kernelspec": {
   "display_name": "Python 3",
   "language": "python",
   "name": "python3"
  },
  "language_info": {
   "codemirror_mode": {
    "name": "ipython",
    "version": 3
   },
   "file_extension": ".py",
   "mimetype": "text/x-python",
   "name": "python",
   "nbconvert_exporter": "python",
   "pygments_lexer": "ipython3",
   "version": "3.9.1"
  },
  "widgets": {
   "application/vnd.jupyter.widget-state+json": {
    "state": {
     "2cf59bce43794bc689c5a94d536ad78c": {
      "model_module": "@jupyter-widgets/base",
      "model_module_version": "1.2.0",
      "model_name": "LayoutModel",
      "state": {}
     },
     "3aad2f43928546fbb44bfa7017198ee3": {
      "model_module": "@jupyter-widgets/controls",
      "model_module_version": "1.5.0",
      "model_name": "ButtonStyleModel",
      "state": {}
     },
     "986d9e1f85094ff8b331d0de5a18991b": {
      "model_module": "@jupyter-widgets/base",
      "model_module_version": "1.2.0",
      "model_name": "LayoutModel",
      "state": {}
     },
     "d14bf22c4d4646b1af4151fcf5dbae20": {
      "model_module": "@jupyter-widgets/output",
      "model_module_version": "1.0.0",
      "model_name": "OutputModel",
      "state": {
       "layout": "IPY_MODEL_986d9e1f85094ff8b331d0de5a18991b",
       "outputs": [
        {
         "data": {
          "text/html": "<h3>Glass Negative - Gearbox for Live Roll Grizzly for Broken Hill Pty Ltd, Chas Ruwolt Pty Ltd, 1931</h3>",
          "text/plain": "<IPython.core.display.HTML object>"
         },
         "metadata": {},
         "output_type": "display_data"
        },
        {
         "data": {
          "text/html": "<img src=\"https://collections.museumsvictoria.com.au/content/media/14/49164-small.jpg\"/>",
          "text/plain": "<IPython.core.display.Image object>"
         },
         "metadata": {},
         "output_type": "display_data"
        },
        {
         "data": {
          "text/html": "<a href=\"https://collections.museumsvictoria.com.au/items/793222\">More info...</a>",
          "text/plain": "<IPython.core.display.HTML object>"
         },
         "metadata": {},
         "output_type": "display_data"
        }
       ]
      }
     },
     "ebe356f66d3f4f879329d765a8580b64": {
      "model_module": "@jupyter-widgets/controls",
      "model_module_version": "1.5.0",
      "model_name": "ButtonModel",
      "state": {
       "description": "Randomise!",
       "layout": "IPY_MODEL_2cf59bce43794bc689c5a94d536ad78c",
       "style": "IPY_MODEL_3aad2f43928546fbb44bfa7017198ee3"
      }
     }
    },
    "version_major": 2,
    "version_minor": 0
   }
  }
 },
 "nbformat": 4,
 "nbformat_minor": 4
}
